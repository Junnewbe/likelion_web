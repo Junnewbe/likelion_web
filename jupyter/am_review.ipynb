{
 "cells": [
  {
   "cell_type": "code",
   "execution_count": 13,
   "metadata": {},
   "outputs": [],
   "source": [
    "from selenium import webdriver\n",
    "from bs4 import BeautifulSoup\n",
    "import time\n",
    "import re\n",
    "import pandas as pd\n",
    "driver=webdriver.Chrome('./chromedriver_90')\n"
   ]
  },
  {
   "cell_type": "code",
   "execution_count": 14,
   "metadata": {},
   "outputs": [],
   "source": [
    "url = 'https://www.amazon.com/Neutrogena-Water-Resistant-Sunscreen-Spectrum/dp/B007KA7V5U/ref=sr_1_10?dchild=1&fst=as%3Aoff&pf_rd_i=16225006011&pf_rd_m=ATVPDKIKX0DER&pf_rd_p=fd971cf1-cdbc-4301-8c91-0a56b1c1e13f&pf_rd_r=2S7K2QR07WGF6WB4MQG6&pf_rd_s=merchandised-search-4&pf_rd_t=101&qid=1624253572&rnid=16225006011&s=beauty-intl-ship&sr=1-10'\n",
    "driver.get(url)\n",
    "sel_review = driver.find_element_by_xpath('//*[@id=\"cr-pagination-footer-0\"]/a')\n",
    "sel_review.click()\n"
   ]
  },
  {
   "cell_type": "code",
   "execution_count": 17,
   "metadata": {},
   "outputs": [],
   "source": [
    "all_user = []    # 사용자\n",
    "all_ratings = [] # 평점\n",
    "all_dates = []   # 날짜\n",
    "all_reviews = [] # 리뷰\n",
    "\n",
    "for page in range(2, 7, 1):\n",
    "    time.sleep(3)\n",
    "    page=driver.page_source\n",
    "    soup=BeautifulSoup(page, \"html.parser\")\n",
    "    all_r = soup.find_all(\"div\", class_=\"a-section celwidget\")\n",
    "    \n",
    "    for one in all_r:\n",
    "        user_one = one.find(\"span\", class_=\"a-profile-name\").text\n",
    "        all_user.append(user_one)  # 사용자 추가\n",
    "        rating_one = one.find(\"span\", class_=\"a-icon-alt\").text\n",
    "        nums = re.findall(\"\\d+\", rating_one)[0]\n",
    "        all_ratings.append(nums)   # 평점 추가\n",
    "        date_one = one.find(\"span\", class_=\"a-size-base a-color-secondary review-date\")\n",
    "        texts = date_one.text.split(\"on\")\n",
    "        data = texts[1].strip()\n",
    "        all_dates.append(data)\n",
    "        # 리뷰 추가\n",
    "        review_one = one.find(\"span\",\n",
    "                    class_=\"a-size-base review-text review-text-content\")\n",
    "        tmp = review_one.text\n",
    "        review = tmp.strip()\n",
    "        all_reviews.append(review)\n",
    "#확인\n",
    "#     print(\"user :\", all_user[-1], \"rating: \", all_ratings[-1])\n",
    "#     print(\"review :\", all_reviews[-1], end=\"\\n\\n\\n\")\n",
    "#클릭\n",
    "    sel_review = driver.find_element_by_xpath('//*[@id=\"cm_cr-pagination_bar\"]/ul/li[2]/a')\n",
    "    sel_review.click()\n",
    "dat_r={'review' : all_reviews , 'users': all_user, 'rating':all_ratings}\n",
    "dat=pd.DataFrame(dat_r)\n",
    "# dat\n",
    "dat.to_csv(\"revie5w.csv\", index=False)"
   ]
  },
  {
   "cell_type": "code",
   "execution_count": null,
   "metadata": {},
   "outputs": [],
   "source": []
  }
 ],
 "metadata": {
  "kernelspec": {
   "display_name": "Python 3",
   "language": "python",
   "name": "python3"
  },
  "language_info": {
   "codemirror_mode": {
    "name": "ipython",
    "version": 3
   },
   "file_extension": ".py",
   "mimetype": "text/x-python",
   "name": "python",
   "nbconvert_exporter": "python",
   "pygments_lexer": "ipython3",
   "version": "3.8.5"
  }
 },
 "nbformat": 4,
 "nbformat_minor": 4
}
