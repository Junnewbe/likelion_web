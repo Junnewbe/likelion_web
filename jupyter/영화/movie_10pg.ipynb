{
 "cells": [
  {
   "cell_type": "code",
   "execution_count": 1,
   "metadata": {},
   "outputs": [],
   "source": [
    "from urllib.request import urlopen\n",
    "from bs4 import BeautifulSoup"
   ]
  },
  {
   "cell_type": "code",
   "execution_count": 47,
   "metadata": {},
   "outputs": [],
   "source": [
    "# url = 'https://movie.naver.com/movie/point/af/list.nhn'\n",
    "basic_url = \"https://movie.naver.com/movie/bi/mi/review.nhn?code=92075&page=\"\n",
    "# 2page https://movie.naver.com/movie/bi/mi/review.nhn?code=92075&page=2\n",
    "# 3page"
   ]
  },
  {
   "cell_type": "code",
   "execution_count": 48,
   "metadata": {},
   "outputs": [
    {
     "name": "stdout",
     "output_type": "stream",
     "text": [
      "10\n"
     ]
    }
   ],
   "source": [
    "url1 = \"https://movie.naver.com/movie/bi/mi/review.nhn?code=92075&page=1\"\n",
    "page = urlopen(url1)\n",
    "soup = BeautifulSoup(page, \"html.parser\")\n",
    "comment_all = soup.find('ul', class_='rvw_list_area').find_all('li')\n",
    "print(len(comment_all))"
   ]
  },
  {
   "cell_type": "code",
   "execution_count": 49,
   "metadata": {},
   "outputs": [
    {
     "data": {
      "text/plain": [
       "\"시간에 관한 이야기이다. 시간에 속한 사랑, 시간에 속한 인생에 관한 이야기  처음의 전개는 포스터에서 예상했듯 '사랑'에 관한 이야기였다.  시간을 여행하는 능력을 지닌 남자주인공이  여자주인공을 만나는 과정을 다룬 조금은 진부...\""
      ]
     },
     "execution_count": 49,
     "metadata": {},
     "output_type": "execute_result"
    }
   ],
   "source": [
    "temp = list(comment_all[4].find('p').children)\n",
    "temp[0].text.strip()\n"
   ]
  },
  {
   "cell_type": "code",
   "execution_count": 54,
   "metadata": {},
   "outputs": [
    {
     "name": "stdout",
     "output_type": "stream",
     "text": [
      "10\n",
      "20\n",
      "30\n",
      "40\n",
      "50\n",
      "60\n",
      "70\n",
      "80\n",
      "90\n",
      "100\n"
     ]
    }
   ],
   "source": [
    "cnt = 0\n",
    "comments = []\n",
    "for i in range(1,11):\n",
    "    url = basic_url + str(i)\n",
    "    page = urlopen(url)\n",
    "    soup = BeautifulSoup(page, \"html.parser\")\n",
    "    comment_all =  soup.find('ul', class_='rvw_list_area').find_all('li')\n",
    "    for comment in comment_all:\n",
    "        try:\n",
    "            cnt= cnt + 1\n",
    "            result = comment.find('p').find('a')\n",
    "            comments.append(result.text.strip())\n",
    "        except:\n",
    "            print(\"error cnt count\", cnt)\n",
    "    print(len(comments))"
   ]
  },
  {
   "cell_type": "code",
   "execution_count": 55,
   "metadata": {},
   "outputs": [],
   "source": [
    "import pandas as pd\n",
    "dict_doc = {\"text\" : comments}\n",
    "doc = pd.DataFrame(dict_doc)"
   ]
  },
  {
   "cell_type": "code",
   "execution_count": 58,
   "metadata": {},
   "outputs": [],
   "source": [
    "doc.to_excel(\"어바웃타임1.xlsx\", index = False)"
   ]
  },
  {
   "cell_type": "code",
   "execution_count": null,
   "metadata": {},
   "outputs": [],
   "source": []
  }
 ],
 "metadata": {
  "kernelspec": {
   "display_name": "Python 3",
   "language": "python",
   "name": "python3"
  },
  "language_info": {
   "codemirror_mode": {
    "name": "ipython",
    "version": 3
   },
   "file_extension": ".py",
   "mimetype": "text/x-python",
   "name": "python",
   "nbconvert_exporter": "python",
   "pygments_lexer": "ipython3",
   "version": "3.8.5"
  }
 },
 "nbformat": 4,
 "nbformat_minor": 4
}
