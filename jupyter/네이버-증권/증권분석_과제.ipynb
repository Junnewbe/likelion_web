{
 "cells": [
  {
   "cell_type": "code",
   "execution_count": 152,
   "metadata": {},
   "outputs": [],
   "source": [
    "import requests\n",
    "from urllib.request import urlopen #url열어주는 함수  호출\n",
    "from bs4 import BeautifulSoup\n",
    "import pandas as pd\n",
    "from pandas import Series, DataFrame\n",
    "import seaborn as sns"
   ]
  },
  {
   "cell_type": "code",
   "execution_count": 153,
   "metadata": {},
   "outputs": [],
   "source": [
    "Urlup=\"https://finance.naver.com/sise/sise_rise.nhn\" #상승주\n",
    "# Urlbuy=\"https://finance.naver.com/sise/sise_quant.nhn?sosok=1\" #거래량 상위\n",
    "base=\"https://finance.naver.com/\""
   ]
  },
  {
   "cell_type": "code",
   "execution_count": null,
   "metadata": {},
   "outputs": [],
   "source": []
  },
  {
   "cell_type": "code",
   "execution_count": 163,
   "metadata": {},
   "outputs": [
    {
     "name": "stdout",
     "output_type": "stream",
     "text": [
      "['한전산업', '신풍제약', 'KEC', '이스타코', 'JW중외제약우']\n",
      "['https://finance.naver.com//item/main.nhn?code=130660', 'https://finance.naver.com//item/main.nhn?code=019170', 'https://finance.naver.com//item/main.nhn?code=092220', 'https://finance.naver.com//item/main.nhn?code=015020', 'https://finance.naver.com//item/main.nhn?code=001065']\n"
     ]
    },
    {
     "data": {
      "text/html": [
       "<div>\n",
       "<style scoped>\n",
       "    .dataframe tbody tr th:only-of-type {\n",
       "        vertical-align: middle;\n",
       "    }\n",
       "\n",
       "    .dataframe tbody tr th {\n",
       "        vertical-align: top;\n",
       "    }\n",
       "\n",
       "    .dataframe thead th {\n",
       "        text-align: right;\n",
       "    }\n",
       "</style>\n",
       "<table border=\"1\" class=\"dataframe\">\n",
       "  <thead>\n",
       "    <tr style=\"text-align: right;\">\n",
       "      <th></th>\n",
       "      <th>신풍제약</th>\n",
       "      <th>KEC</th>\n",
       "    </tr>\n",
       "  </thead>\n",
       "  <tbody>\n",
       "    <tr>\n",
       "      <th>2021-06-25</th>\n",
       "      <td>91,300</td>\n",
       "      <td>2,815</td>\n",
       "    </tr>\n",
       "    <tr>\n",
       "      <th>2021-06-26</th>\n",
       "      <td>11,400</td>\n",
       "      <td>325</td>\n",
       "    </tr>\n",
       "  </tbody>\n",
       "</table>\n",
       "</div>"
      ],
      "text/plain": [
       "              신풍제약     KEC\n",
       "2021-06-25  91,300  2,815 \n",
       "2021-06-26  11,400     325"
      ]
     },
     "execution_count": 163,
     "metadata": {},
     "output_type": "execute_result"
    }
   ],
   "source": [
    "req=requests.get(Urlup)\n",
    "soup=BeautifulSoup(req.content.decode('euc-kr','replace'),\"html.parser\")\n",
    "goup=soup.find_all(\"a\", class_=\"tltle\")\n",
    "top5=[]\n",
    "top5_U=[]\n",
    "for i in range(5):\n",
    "    top5.append(goup[i].text)\n",
    "    top5_U.append(base+goup[i].get('href'))\n",
    "print(top5)\n",
    "print(top5_U)\n",
    "top5_d={}\n",
    "\n",
    "for z in range(5):\n",
    "    dic_lis=[]\n",
    "    req=requests.get(top5_U[z])\n",
    "    soup=BeautifulSoup(req.content.decode('euc-kr','replace'),\"html.parser\")\n",
    "    bl=soup.find(\"div\", id=\"middle\").find(\"dl\", class_=\"blind\").find_all(\"dd\")\n",
    "    dic_lis.append(bl[2].text[5:11]) #종목코드\n",
    "    dic_lis.append(bl[3].text[4:10]) #현재가\n",
    "    a=bl[3].text.split(\" \") #전일대비\n",
    "    dic_lis.append(a[4])\n",
    "    dic_lis.append(bl[4].text[4:11]) #전일가격\n",
    "    dic_lis.append(bl[6].text[3:11]) #고가\n",
    "    dic_lis.append(bl[8].text[3:11]) #저가\n",
    "    dic_lis.append(bl[10].text[4:15]) #거래량\n",
    "\n",
    "    top5_d[top5[z]]=dic_lis\n",
    "# dat = pd.DataFrame(top5_d)\n",
    "# dat.index=[\"종목코드\",\"현재가\",\"전일대비\",\"전일가격\",\"고가\",\"저가\",\"거래량\"]\n",
    "# dat\n",
    "idx = pd.date_range(start=\"2021-06-24\", end=\"2021-06-30\")\n",
    "dat_d = pd.DataFrame(top5_d, index=idx)\n",
    "# dat_d\n",
    "dat_d.loc[\"2021-06-25\":\"2021-06-26\",\"신풍제약\":\"KEC\"]\n"
   ]
  },
  {
   "cell_type": "code",
   "execution_count": null,
   "metadata": {},
   "outputs": [],
   "source": [
    "\n"
   ]
  },
  {
   "cell_type": "code",
   "execution_count": 28,
   "metadata": {},
   "outputs": [
    {
     "name": "stdout",
     "output_type": "stream",
     "text": [
      "[]\n"
     ]
    }
   ],
   "source": []
  },
  {
   "cell_type": "code",
   "execution_count": null,
   "metadata": {},
   "outputs": [],
   "source": []
  },
  {
   "cell_type": "code",
   "execution_count": null,
   "metadata": {},
   "outputs": [],
   "source": []
  }
 ],
 "metadata": {
  "kernelspec": {
   "display_name": "Python 3",
   "language": "python",
   "name": "python3"
  },
  "language_info": {
   "codemirror_mode": {
    "name": "ipython",
    "version": 3
   },
   "file_extension": ".py",
   "mimetype": "text/x-python",
   "name": "python",
   "nbconvert_exporter": "python",
   "pygments_lexer": "ipython3",
   "version": "3.8.5"
  }
 },
 "nbformat": 4,
 "nbformat_minor": 4
}
