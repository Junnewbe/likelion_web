{
 "cells": [
  {
   "cell_type": "code",
   "execution_count": 7,
   "metadata": {},
   "outputs": [
    {
     "data": {
      "text/html": [
       "<div>\n",
       "<style scoped>\n",
       "    .dataframe tbody tr th:only-of-type {\n",
       "        vertical-align: middle;\n",
       "    }\n",
       "\n",
       "    .dataframe tbody tr th {\n",
       "        vertical-align: top;\n",
       "    }\n",
       "\n",
       "    .dataframe thead th {\n",
       "        text-align: right;\n",
       "    }\n",
       "</style>\n",
       "<table border=\"1\" class=\"dataframe\">\n",
       "  <thead>\n",
       "    <tr style=\"text-align: right;\">\n",
       "      <th></th>\n",
       "    </tr>\n",
       "  </thead>\n",
       "  <tbody>\n",
       "  </tbody>\n",
       "</table>\n",
       "</div>"
      ],
      "text/plain": [
       "Empty DataFrame\n",
       "Columns: []\n",
       "Index: []"
      ]
     },
     "execution_count": 7,
     "metadata": {},
     "output_type": "execute_result"
    }
   ],
   "source": [
    "# ## naver finance Top 종목\n",
    "# from urllib.request import urlopen\n",
    "# from bs4 import BeautifulSoup\n",
    "# import pandas as pd\n",
    "# url = \"https://finance.naver.com/sise/\"\n",
    "# page = urlopen(url)\n",
    "# soup = BeautifulSoup(page, 'html.parser')\n",
    "# all_top = soup.find('div', class_=\"choice_lt\").find_all(\"tr\")\n",
    "# all_data = []\n",
    "# for tr in all_top:\n",
    "#     dic = {}\n",
    "#     # dic[\"순위\"] = td.find(\"img\").text \n",
    "#     dic[\"연속\"] = tr.find('td', class_=\"number\").text \n",
    "#     dic[\"누적\"] = tr.find('td', class_=\"number\").text \n",
    "#     dic[\"현재가\"] = tr.find('td', class_=\"number\").text \n",
    "#     dic[\"화살표\"] = tr.find('span', class_=\"blind\").text \n",
    "#     dic[\"전일비\"] = tr.find('span', class_=\"tah p11 red01\").text \n",
    "#     # dic[\"등락률\"] = td.find('span', class=\"tah p11 red01\").text \n",
    "#     dic[\"거래량\"] = tr.find('td', class_=\"number\").text \n",
    "#     dic[\"시가\"] = tr.find('td', class_=\"number\").text \n",
    "#     dic[\"고가\"] = tr.find('td', class_=\"number\").text \n",
    "#     dic[\"저가\"] = tr.find('td', class_=\"number\").text \n",
    "#     all_data.append(dic)\n",
    "# dat = pd.DataFrame(all_data)\n",
    "# dat"
   ]
  },
  {
   "cell_type": "code",
   "execution_count": 8,
   "metadata": {},
   "outputs": [],
   "source": [
    "from urllib.request import urlopen\n",
    "from bs4 import BeautifulSoup"
   ]
  },
  {
   "cell_type": "code",
   "execution_count": 9,
   "metadata": {},
   "outputs": [],
   "source": [
    "url=\"https://finance.naver.com/sise/\""
   ]
  },
  {
   "cell_type": "code",
   "execution_count": 10,
   "metadata": {},
   "outputs": [],
   "source": [
    "page=urlopen(url)\n",
    "page\n",
    "soup=BeautifulSoup(page, \"html.parser\")"
   ]
  },
  {
   "cell_type": "code",
   "execution_count": 12,
   "metadata": {},
   "outputs": [
    {
     "name": "stdout",
     "output_type": "stream",
     "text": [
      "998.33\n",
      "3,259.21\n",
      "433.94\n"
     ]
    }
   ],
   "source": [
    "print(soup.find('span', id='KOSDAQ_now').text) #코스닥\n",
    "print(soup.find('span', id='KOSPI_now').text) #코스피\n",
    "print(soup.find('span', id='KPI200_now').text) #코스피200"
   ]
  },
  {
   "cell_type": "code",
   "execution_count": 31,
   "metadata": {},
   "outputs": [],
   "source": [
    "my_stock=['삼성전자','카카오','현대차','NAVER', '뉴파워프라즈마']\n",
    "my_stockcode=['005930','035720','005380','035420','144960']"
   ]
  },
  {
   "cell_type": "code",
   "execution_count": 14,
   "metadata": {},
   "outputs": [
    {
     "data": {
      "text/plain": [
       "<title>유한양행 : 네이버 금융</title>"
      ]
     },
     "execution_count": 14,
     "metadata": {},
     "output_type": "execute_result"
    }
   ],
   "source": [
    "chk_url='https://finance.naver.com/item/main.nhn?code='\n",
    "page=urlopen(chk_url)\n",
    "soup=BeautifulSoup(page, 'lxml')\n",
    "soup.title"
   ]
  },
  {
   "cell_type": "code",
   "execution_count": 15,
   "metadata": {},
   "outputs": [
    {
     "data": {
      "text/plain": [
       "'63,200'"
      ]
     },
     "execution_count": 15,
     "metadata": {},
     "output_type": "execute_result"
    }
   ],
   "source": [
    "soup.find(\"p\", class_='no_today').find(\"span\", class_='blind').text"
   ]
  },
  {
   "cell_type": "code",
   "execution_count": 18,
   "metadata": {},
   "outputs": [
    {
     "data": {
      "text/plain": [
       "['\\n',\n",
       " <em class=\"no_down\">\n",
       " <span class=\"blind\">63,200</span>\n",
       " <span class=\"no6\">6</span><span class=\"no3\">3</span><span class=\"shim\">,</span><span class=\"no2\">2</span><span class=\"no0\">0</span><span class=\"no0\">0</span>\n",
       " </em>,\n",
       " '\\n']"
      ]
     },
     "execution_count": 18,
     "metadata": {},
     "output_type": "execute_result"
    }
   ],
   "source": [
    "t=list(soup.find(\"p\", class_='no_today').children)\n",
    "t"
   ]
  },
  {
   "cell_type": "markdown",
   "metadata": {},
   "source": [
    "# print(t[1].prettify()) 코드 보이는 코드"
   ]
  },
  {
   "cell_type": "code",
   "execution_count": 19,
   "metadata": {},
   "outputs": [
    {
     "name": "stdout",
     "output_type": "stream",
     "text": [
      "<em class=\"no_down\">\n",
      " <span class=\"blind\">\n",
      "  63,200\n",
      " </span>\n",
      " <span class=\"no6\">\n",
      "  6\n",
      " </span>\n",
      " <span class=\"no3\">\n",
      "  3\n",
      " </span>\n",
      " <span class=\"shim\">\n",
      "  ,\n",
      " </span>\n",
      " <span class=\"no2\">\n",
      "  2\n",
      " </span>\n",
      " <span class=\"no0\">\n",
      "  0\n",
      " </span>\n",
      " <span class=\"no0\">\n",
      "  0\n",
      " </span>\n",
      "</em>\n",
      "\n"
     ]
    }
   ],
   "source": [
    "print(t[1].prettify())"
   ]
  },
  {
   "cell_type": "code",
   "execution_count": 33,
   "metadata": {},
   "outputs": [],
   "source": [
    "my_stock=['삼성전자','카카오','현대차','NAVER', '뉴파워프라즈마']\n",
    "my_stockcode=['005930','035720','005380','035420','144960']\n",
    "base_url='https://finance.naver.com/item/main.nhn?code='"
   ]
  },
  {
   "cell_type": "code",
   "execution_count": 45,
   "metadata": {},
   "outputs": [
    {
     "name": "stdout",
     "output_type": "stream",
     "text": [
      "삼성전자(종목코드 005930 코스피) 현재가 80,800 전일대비 하락 1,000 마이너스 1.22 퍼센트 상한가 106,000 저가 80,700 거래량 6,416,339 거래대금 518,753백만\n",
      "카카오(종목코드 035720 코스피) 현재가 147,500 전일대비 상승 4,500 플러스 3.15 퍼센트 상한가 185,500 저가 140,500 거래량 2,517,194 거래대금 362,284백만\n",
      "현대차(종목코드 005380 코스피) 현재가 236,500 전일대비 하락 3,000 마이너스 1.25 퍼센트 상한가 311,000 저가 236,500 거래량 318,684 거래대금 75,678백만\n",
      "NAVER(종목코드 035420 코스피) 현재가 392,500 전일대비 상승 1,500 플러스 0.38 퍼센트 상한가 508,000 저가 385,000 거래량 302,282 거래대금 117,479백만\n",
      "뉴파워프라즈마(종목코드 144960 코스닥) 현재가 6,190 전일대비 상승 30 플러스 0.49 퍼센트 상한가 8,000 저가 6,110 거래량 68,985 거래대금 425백만\n"
     ]
    }
   ],
   "source": [
    "\n",
    "all_url=''\n",
    "for idx, code in enumerate(my_stockcode):\n",
    "    \n",
    "    all_url = base_url+code\n",
    "    page=urlopen(all_url)\n",
    "    soup=BeautifulSoup(page, 'lxml')\n",
    "    pr=soup.find(\"p\", class_='no_today').find(\"span\", class_='blind').text\n",
    "    lang=list(soup.find('dl', class_=\"blind\").children)\n",
    "    \n",
    "    \n",
    "    \n",
    "    ##현재가\n",
    "\n",
    "    \n",
    "    print(my_stock[idx]+\"(\"+lang[7].text+\") \"+ lang[9].text,lang[17].text,lang[19].text, lang[23].text, lang[25].text )\n",
    "    "
   ]
  },
  {
   "cell_type": "code",
   "execution_count": 29,
   "metadata": {},
   "outputs": [
    {
     "name": "stdout",
     "output_type": "stream",
     "text": [
      "삼성전자 80,900\n",
      "카카오 144,000\n",
      "유한양행 63,100\n",
      "NAVER 388,500\n"
     ]
    }
   ],
   "source": [
    "# cnt = 0\n",
    "# for  code in my_stockcode:\n",
    "    \n",
    "#     all_url = base_url+code\n",
    "#     page=urlopen(all_url)\n",
    "#     soup=BeautifulSoup(page, 'lxml')\n",
    "    \n",
    "#     ##현재가\n",
    "#     tmp=soup.find(\"p\", class_=\"no_today\")\n",
    "#     price = tmp.find(\"span\", class_=\"blind\").text\n",
    "    \n",
    "#     print(my_stock[cnt], price)\n",
    "#     cnt+=1"
   ]
  },
  {
   "cell_type": "code",
   "execution_count": null,
   "metadata": {},
   "outputs": [],
   "source": [
    "from bs4 import BeautifulSoup\n",
    "from urllib.request import urlopen\n",
    "import pandas as pd\n",
    "# 여러 개\n",
    "my_stock = ['삼성전자', 'CJ CGV', '효성화학', '카카오', 'ARIRANG 코스피50']\n",
    "my_stock_code = ['005930 ','079160','298000','035720','122090']\n",
    "base_url = 'https://finance.naver.com/item/main.nhn?code='\n",
    "price_all = []\n",
    "dif_all = []\n",
    "rat_all = []\n",
    "c0 = []  \n",
    "c1 = []\n",
    "c2 = []\n",
    "c3 = []\n",
    "c4 = []\n",
    "c5 = []\n",
    "# c6 = []\n",
    "for idx,code in enumerate(my_stock_code):\n",
    "    all_url = base_url + code\n",
    "    page = urlopen(all_url)\n",
    "    soup = BeautifulSoup(page, 'html.parser')\n",
    "    print(soup.title) # 제대로 정보를 가지고 왔는지 확인\n",
    "    price_all.append(soup.find(\"p\",class_='no_today').find(\"span\", class_=\"blind\").text)\n",
    "    gaptag = soup.find(\"p\",class_='no_exday').find_all(\"span\",class_='blind')\n",
    "    dif_all.append(gaptag[0].text) # 전일비\n",
    "    rat_all.append(gaptag[1].text) # 등락율\n",
    "    table = soup.find(\"table\")\n",
    "    numtag = table.find_all(\"span\",class_='blind')\n",
    "    c0.append(numtag[0].text) # 전일\n",
    "    c1.append(numtag[1].text) # 고가\n",
    "    c2.append(numtag[2].text) # 상한가\n",
    "    c3.append(numtag[3].text) # 거래량\n",
    "    c4.append(numtag[4].text) # 시가\n",
    "    c5.append(numtag[5].text) # 저가\n",
    "#     c6.append(numtag[6].text) # 거래대금\n",
    "dat = {'회사명':my_stock,'회사코드':my_stock_code, \n",
    "      '현재가':price_all, \"전일비\":dif_all, \"등락률\":rat_all,\n",
    "       \"전일\":c0, \"고가\":c1,\"상한가\":c2,\"거래량\":c3,\"시가\":c4,\"저가\":c5} # 거래대금 제외\n",
    "dat = pd.DataFrame(dat)\n",
    "dat.to_csv(\"mystock.csv\",index=False)"
   ]
  }
 ],
 "metadata": {
  "kernelspec": {
   "display_name": "Python 3",
   "language": "python",
   "name": "python3"
  },
  "language_info": {
   "codemirror_mode": {
    "name": "ipython",
    "version": 3
   },
   "file_extension": ".py",
   "mimetype": "text/x-python",
   "name": "python",
   "nbconvert_exporter": "python",
   "pygments_lexer": "ipython3",
   "version": "3.8.5"
  }
 },
 "nbformat": 4,
 "nbformat_minor": 4
}
