{
 "cells": [
  {
   "cell_type": "code",
   "execution_count": 3,
   "metadata": {},
   "outputs": [],
   "source": [
    "from urllib.request import urlopen\n",
    "from bs4 import BeautifulSoup"
   ]
  },
  {
   "cell_type": "raw",
   "metadata": {},
   "source": []
  },
  {
   "cell_type": "code",
   "execution_count": 4,
   "metadata": {},
   "outputs": [],
   "source": [
    "url=\"http://finance.naver.com/sise/\""
   ]
  },
  {
   "cell_type": "code",
   "execution_count": 5,
   "metadata": {},
   "outputs": [
    {
     "data": {
      "text/plain": [
       "bs4.BeautifulSoup"
      ]
     },
     "execution_count": 5,
     "metadata": {},
     "output_type": "execute_result"
    }
   ],
   "source": [
    "page=urlopen(url)\n",
    "soup=BeautifulSoup(page,\"html.parser\")\n",
    "type(soup)"
   ]
  },
  {
   "cell_type": "code",
   "execution_count": 19,
   "metadata": {},
   "outputs": [
    {
     "name": "stdout",
     "output_type": "stream",
     "text": [
      "현재 코스피 지수는: 3,254.49\n",
      "현재 코스피200 지수는: 433.58\n",
      "현재 코스닥 지수는: 997.86\n",
      "프로그램 매매동향: \n",
      "프로그램 매매동향\n",
      "\n",
      "차익\n",
      "-190억\n",
      "\n",
      "\n",
      "비차익\n",
      "-855억\n",
      "\n",
      "\n",
      "전체\n",
      "-1,045억\n",
      "\n",
      "\n"
     ]
    }
   ],
   "source": [
    "#tag:span\n",
    "#id: KOSPI_now\n",
    "kospi=soup.find(\"span\",id=\"KOSPI_now\").text\n",
    "print(\"현재 코스피 지수는:\",kospi)\n",
    "ksp200=soup.find(\"span\",id=\"KPI200_now\").text\n",
    "print(\"현재 코스피200 지수는:\",ksp200)\n",
    "kosdq=soup.find(\"span\",id=\"KOSDAQ_now\").text\n",
    "print(\"현재 코스닥 지수는:\",kosdq)\n",
    "meme=soup.find(\"dl\",id=\"basis_trend\").text\n",
    "print(\"프로그램 매매동향:\",meme)\n"
   ]
  },
  {
   "cell_type": "code",
   "execution_count": 20,
   "metadata": {},
   "outputs": [
    {
     "name": "stdout",
     "output_type": "stream",
     "text": [
      "차익: -190억, 비차익: -855억, 전체: -1,045억\n"
     ]
    }
   ],
   "source": [
    "trend_profit = soup.find(class_=\"profit\").find('a').text\n",
    "trend_loss = soup.find(class_=\"loss\").find('a').text\n",
    "trend_total = soup.find(class_=\"total\").find('a').text\n",
    "print(f\"차익: {trend_profit}, 비차익: {trend_loss}, 전체: {trend_total}\")"
   ]
  },
  {
   "cell_type": "code",
   "execution_count": null,
   "metadata": {},
   "outputs": [],
   "source": []
  }
 ],
 "metadata": {
  "kernelspec": {
   "display_name": "Python 3",
   "language": "python",
   "name": "python3"
  },
  "language_info": {
   "codemirror_mode": {
    "name": "ipython",
    "version": 3
   },
   "file_extension": ".py",
   "mimetype": "text/x-python",
   "name": "python",
   "nbconvert_exporter": "python",
   "pygments_lexer": "ipython3",
   "version": "3.8.5"
  }
 },
 "nbformat": 4,
 "nbformat_minor": 4
}
