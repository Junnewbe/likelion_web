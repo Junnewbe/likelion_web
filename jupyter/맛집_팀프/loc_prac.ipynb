{
 "cells": [
  {
   "cell_type": "code",
   "execution_count": 24,
   "metadata": {},
   "outputs": [],
   "source": [
    "from selenium import webdriver\n",
    "from selenium.webdriver.common.keys import Keys\n",
    "from selenium.webdriver.support.ui import WebDriverWait\n",
    "from selenium.webdriver.support import expected_conditions as EC\n",
    "from selenium.webdriver.common.by import By\n",
    "\n",
    "from bs4 import BeautifulSoup\n",
    "import time\n",
    "import requests\n",
    "from selenium import webdriver\n",
    "driver=webdriver.Chrome('chromedriver_90')"
   ]
  },
  {
   "cell_type": "code",
   "execution_count": 25,
   "metadata": {},
   "outputs": [],
   "source": [
    "driver.implicitly_wait(5) # 응답의 시간 지연\n",
    "url = 'https://www.wikitree.co.kr/articles/217101'\n",
    "# chrome driver로 해당 페이지가 물리적으로 open\n",
    "driver.get(url)\n",
    "\n",
    "# 소스 가져오기\n",
    "src = driver.page_source\n",
    "\n",
    "# 소스 BeautifulSoup 객체로 변환\n",
    "soup = BeautifulSoup(src)\n",
    "\n",
    "comment_area = soup.select('div#wikicon div')\n",
    "\n",
    "# chrome driver 사용 후, close 함수로 종료\n",
    "# driver.close()"
   ]
  },
  {
   "cell_type": "code",
   "execution_count": 26,
   "metadata": {},
   "outputs": [
    {
     "name": "stdout",
     "output_type": "stream",
     "text": [
      "20\n",
      "['다성일식', '봉산집', '창고43', '돕감자탕', '대보명가', '해뜨는집', '아이 해브어 드림', '아현동 간장게장', '왕소금구이', '라틀리에 모니크', '비스트로 딩고', '줄리에뜨', '충주집', '영화루', '일품헌', '립스테이크', '오가와', '까사디노아', '충무로 주꾸미 불고기', '애성회관']\n"
     ]
    }
   ],
   "source": [
    "name = []\n",
    "strong = soup.select('div#wikicon strong')\n",
    "# print(strong)\n",
    "for item in strong:\n",
    "    if len(item.text) > 1:\n",
    "        item = item.text.split('회 ') # '회 ' 로 찾아야 애성회관 이름 안잘림\n",
    "        #         print(item)\n",
    "        if len(item) > 1:\n",
    "            item = item[1]\n",
    "            name.append(item)\n",
    "print(len(name))\n",
    "print(name)"
   ]
  },
  {
   "cell_type": "code",
   "execution_count": 27,
   "metadata": {},
   "outputs": [
    {
     "name": "stdout",
     "output_type": "stream",
     "text": [
      "20\n",
      "['서울시 서대문구 창천동 72-36', '서울시 용산구 용산동3가 1-21', '서울시 영등포구 여의도동 44-37 아일렉스타워15층(스카이점)', '서울시 광진구 화양동 9-22', '서울시 강북구 수유동 563-14', '서울시 성북구 동소문동 1가 62', '서울시 강남구 역삼동 821 이즈타워 B3', '서울시 마포구 아현동  282-1', '서울시 강남구 논현동 98-12', '서울시 강남구 청담동 80-21', '서울시 강남구 신사동 526-11', '서울시 서초구 반포4동 82-22', '서울시 동대문구 제기동 138-2', '서울시 종로구 누하동 25-1', '서울시 서초구 양재동 1-28', '서울시 종로구 부암동 208-37', '종로구 당주동 5 로얄빌딩 지하 1층', '서울 마포구 연남동 257-8 ', '서울 중구 필동 1가 3-20', '서울 중구 북창동 93-36']\n",
      "20\n",
      "['02-338-8951', '02-793-5022', '02-786-5959', '02-499-2838', '02-907-6998', '02-764-6354', '02-3453-7696', '02-312-7530', '02-545-6844', '02-549-9210', '02-518-7866', '02-535-4002', '02-923-1068', '02-738-1218', '02-574-7117', '02-379-2581', '02-735-1001', '02-3142-1108', '02-2279-0803', '02-352-0303 ']\n"
     ]
    }
   ],
   "source": [
    "p = soup.select('div#wikicon p')\n",
    "address = []\n",
    "tel = []\n",
    "del(p[0])\n",
    "del(p[0])\n",
    "# print(p)\n",
    "for i in p:\n",
    "    if '서울시' in i.text or '서울' in i.text or '종로구' in i.text:\n",
    "        address.append(i.text.replace('\\xa0', ' '))\n",
    "    if '02' in i.text:\n",
    "        tel.append(i.text.replace('\\xa0', ' '))\n",
    "print(len(address))\n",
    "print(address)\n",
    "print(len(tel))\n",
    "print(tel)"
   ]
  },
  {
   "cell_type": "code",
   "execution_count": 28,
   "metadata": {},
   "outputs": [
    {
     "name": "stdout",
     "output_type": "stream",
     "text": [
      "[['다성일식', '02-338-8951', '서울시 서대문구 창천동 72-36'], ['봉산집', '02-793-5022', '서울시 용산구 용산동3가 1-21'], ['창고43', '02-786-5959', '서울시 영등포구 여의도동 44-37 아일렉스타워15층(스카이점)'], ['돕감자탕', '02-499-2838', '서울시 광진구 화양동 9-22'], ['대보명가', '02-907-6998', '서울시 강북구 수유동 563-14'], ['해뜨는집', '02-764-6354', '서울시 성북구 동소문동 1가 62'], ['아이 해브어 드림', '02-3453-7696', '서울시 강남구 역삼동 821 이즈타워 B3'], ['아현동 간장게장', '02-312-7530', '서울시 마포구 아현동  282-1'], ['왕소금구이', '02-545-6844', '서울시 강남구 논현동 98-12'], ['라틀리에 모니크', '02-549-9210', '서울시 강남구 청담동 80-21'], ['비스트로 딩고', '02-518-7866', '서울시 강남구 신사동 526-11'], ['줄리에뜨', '02-535-4002', '서울시 서초구 반포4동 82-22'], ['충주집', '02-923-1068', '서울시 동대문구 제기동 138-2'], ['영화루', '02-738-1218', '서울시 종로구 누하동 25-1'], ['일품헌', '02-574-7117', '서울시 서초구 양재동 1-28'], ['립스테이크', '02-379-2581', '서울시 종로구 부암동 208-37'], ['오가와', '02-735-1001', '종로구 당주동 5 로얄빌딩 지하 1층'], ['까사디노아', '02-3142-1108', '서울 마포구 연남동 257-8 '], ['충무로 주꾸미 불고기', '02-2279-0803', '서울 중구 필동 1가 3-20'], ['애성회관', '02-352-0303 ', '서울 중구 북창동 93-36']]\n"
     ]
    }
   ],
   "source": [
    "result=[] # 식당이름, 전화번호, 주소 담을 리스트\n",
    "for i in range(len(name)):\n",
    "    result.append([name[i], tel[i], address[i]])\n",
    "print(result)"
   ]
  },
  {
   "cell_type": "code",
   "execution_count": 29,
   "metadata": {},
   "outputs": [],
   "source": [
    "def getLatLng(address):\n",
    "    app_key = 'KakaoAK ' + 'de1cddfe31e36ca81b209c96d47a388b'\n",
    "    url = 'https://dapi.kakao.com/v2/local/search/address.json' # endpoint\n",
    "    params = {\n",
    "        'query' : address,\n",
    "        'page' : '',\n",
    "        'AddressSize' : ''\n",
    "    }\n",
    "    headers = {'Authorization' : app_key}\n",
    "    response = requests.get(url, headers=headers, params=params)\n",
    "    status_code = response.status_code\n",
    "    resp = response.json()\n",
    "    \n",
    "    if resp['documents'] != []:\n",
    "        longitude = resp['documents'][0]['x'] # 경도\n",
    "        latitude = resp['documents'][0]['y'] # 위도\n",
    "        return longitude, latitude\n",
    "    else:\n",
    "        return (0, 0)"
   ]
  },
  {
   "cell_type": "code",
   "execution_count": 30,
   "metadata": {},
   "outputs": [
    {
     "data": {
      "text/plain": [
       "'강원 속초시 청호동 1341-1'"
      ]
     },
     "execution_count": 30,
     "metadata": {},
     "output_type": "execute_result"
    }
   ],
   "source": [
    "import pandas as pd\n",
    "train = pd.read_excel('./paek.xlsx')\n",
    "adr=train.iloc[:,2]\n",
    "adr[0]"
   ]
  },
  {
   "cell_type": "code",
   "execution_count": 31,
   "metadata": {},
   "outputs": [
    {
     "name": "stdout",
     "output_type": "stream",
     "text": [
      "['서울시 서대문구 창천동 72-36', '서울시 용산구 용산동3가 1-21', '서울시 영등포구 여의도동 44-37 아일렉스타워15층(스카이점)', '서울시 광진구 화양동 9-22', '서울시 강북구 수유동 563-14', '서울시 성북구 동소문동 1가 62', '서울시 강남구 역삼동 821 이즈타워 B3', '서울시 마포구 아현동  282-1', '서울시 강남구 논현동 98-12', '서울시 강남구 청담동 80-21', '서울시 강남구 신사동 526-11', '서울시 서초구 반포4동 82-22', '서울시 동대문구 제기동 138-2', '서울시 종로구 누하동 25-1', '서울시 서초구 양재동 1-28', '서울시 종로구 부암동 208-37', '종로구 당주동 5', '서울 마포구 연남동 257-8 ', '서울 중구 필동 1가 3-20', '서울 중구 북창동 93-36']\n",
      "[['다성일식', '02-338-8951'], ['봉산집', '02-793-5022'], ['창고43', '02-786-5959'], ['돕감자탕', '02-499-2838'], ['대보명가', '02-907-6998'], ['해뜨는집', '02-764-6354'], ['아이 해브어 드림', '02-3453-7696'], ['아현동 간장게장', '02-312-7530'], ['왕소금구이', '02-545-6844'], ['라틀리에 모니크', '02-549-9210'], ['비스트로 딩고', '02-518-7866'], ['줄리에뜨', '02-535-4002'], ['충주집', '02-923-1068'], ['영화루', '02-738-1218'], ['일품헌', '02-574-7117'], ['립스테이크', '02-379-2581'], ['오가와', '02-735-1001'], ['까사디노아', '02-3142-1108'], ['충무로 주꾸미 불고기', '02-2279-0803'], ['애성회관', '02-352-0303 ']]\n"
     ]
    }
   ],
   "source": [
    "xylist = []\n",
    "popuplist = []\n",
    "for item in result:\n",
    "    popuplist.append([item[0], item[1]])\n",
    "    # 예외처리 : 16번째 주소만 인식을 못하여 '종로구 당주동 5'만 사용\n",
    "    if '빌딩' in item[2]:\n",
    "        nad = item[2].split('빌딩')[0]\n",
    "        nad = nad.split(' 로얄')[0]\n",
    "        xylist.append(nad)\n",
    "        continue\n",
    "    else:\n",
    "        xylist.append(item[2])\n",
    "print(xylist)\n",
    "print(popuplist)"
   ]
  },
  {
   "cell_type": "code",
   "execution_count": 32,
   "metadata": {},
   "outputs": [],
   "source": [
    "xpoint = []\n",
    "ypoint = []\n",
    "for i in adr:\n",
    "    x, y= getLatLng(i)\n",
    "    xpoint.append(x) # 경도 저장\n",
    "    ypoint.append(y) # 위도 저장"
   ]
  },
  {
   "cell_type": "code",
   "execution_count": 35,
   "metadata": {},
   "outputs": [],
   "source": [
    "from pandas import DataFrame"
   ]
  },
  {
   "cell_type": "code",
   "execution_count": 36,
   "metadata": {},
   "outputs": [],
   "source": [
    "loca_res={\"gyung\":xpoint,'wedo':ypoint}\n",
    "loc_df=DataFrame(loca_res)"
   ]
  },
  {
   "cell_type": "code",
   "execution_count": 39,
   "metadata": {},
   "outputs": [],
   "source": [
    "loc_df.shape\n",
    "loc_df.to_excel('paek_loc.xlsx',index=False)"
   ]
  },
  {
   "cell_type": "code",
   "execution_count": null,
   "metadata": {},
   "outputs": [],
   "source": [
    "map_list = folium.Map(location=[37.566659527,126.978346859], zoom_start=10)\n",
    "\n",
    "for item in range(len(result)):\n",
    "    latitude = float(ypoint[item])\n",
    "    longtitude = float(xpoint[item])\n",
    "    folium.Marker(\n",
    "        location = [latitude, longtitude],\n",
    "        popup = popuplist[item],\n",
    "        icon=folium.Icon(color='red', icon='glyphicon glyphicon-cutlery')\n",
    "        # icon 적용 할 때 부트스트랩 최신버전을 사용하면 표시안됨. 3버전 이용\n",
    "    ).add_to(map_list)\n",
    "map_list\n",
    "Make this Notebook Truste"
   ]
  }
 ],
 "metadata": {
  "kernelspec": {
   "display_name": "Python 3",
   "language": "python",
   "name": "python3"
  },
  "language_info": {
   "codemirror_mode": {
    "name": "ipython",
    "version": 3
   },
   "file_extension": ".py",
   "mimetype": "text/x-python",
   "name": "python",
   "nbconvert_exporter": "python",
   "pygments_lexer": "ipython3",
   "version": "3.8.5"
  }
 },
 "nbformat": 4,
 "nbformat_minor": 4
}
